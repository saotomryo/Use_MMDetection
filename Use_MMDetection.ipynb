{
  "nbformat": 4,
  "nbformat_minor": 0,
  "metadata": {
    "accelerator": "GPU",
    "colab": {
      "name": "Use_MMDetection.ipynb",
      "provenance": [],
      "collapsed_sections": [],
      "mount_file_id": "1fqgtIO9MkNgLYdNhBcpp6bN_m6UTgQ7_",
      "authorship_tag": "ABX9TyNwToBxLxuDBgZFPbo6IvQF",
      "include_colab_link": true
    },
    "kernelspec": {
      "display_name": "Python 3",
      "name": "python3"
    },
    "language_info": {
      "name": "python"
    }
  },
  "cells": [
    {
      "cell_type": "markdown",
      "metadata": {
        "id": "view-in-github",
        "colab_type": "text"
      },
      "source": [
        "<a href=\"https://colab.research.google.com/github/saotomryo/Use_MMDetection/blob/main/Use_MMDetection.ipynb\" target=\"_parent\"><img src=\"https://colab.research.google.com/assets/colab-badge.svg\" alt=\"Open In Colab\"/></a>"
      ]
    },
    {
      "cell_type": "code",
      "metadata": {
        "colab": {
          "base_uri": "https://localhost:8080/"
        },
        "id": "2IPmHECyfHPp",
        "outputId": "517d45b4-16ac-4d4b-a60f-075703e2932e"
      },
      "source": [
        "import torch\n",
        "import json\n",
        "from skimage import measure\n",
        "import numpy as np\n",
        "print(torch.__version__)\n",
        "device = \"cuda\" if torch.cuda.is_available() else \"cpu\"\n",
        "print(\"device = \", device)"
      ],
      "execution_count": null,
      "outputs": [
        {
          "name": "stdout",
          "output_type": "stream",
          "text": [
            "1.9.0+cu111\n",
            "device =  cuda\n"
          ]
        }
      ]
    },
    {
      "cell_type": "markdown",
      "metadata": {
        "id": "5xdkNklHDWku"
      },
      "source": [
        "## 環境準備 MMCV MMDetectionのインストール"
      ]
    },
    {
      "cell_type": "code",
      "metadata": {
        "colab": {
          "base_uri": "https://localhost:8080/"
        },
        "id": "zuhLiZC2ClOE",
        "outputId": "cde9a4f5-12b3-42b5-aab3-2587e5bb27ca"
      },
      "source": [
        "# MMCVのインストール（30分程度かかります）\n",
        "\n",
        "!pip install mmcv-full==1.3.8"
      ],
      "execution_count": null,
      "outputs": [
        {
          "name": "stdout",
          "output_type": "stream",
          "text": [
            "Collecting mmcv-full==1.3.8\n",
            "  Downloading mmcv-full-1.3.8.tar.gz (312 kB)\n",
            "\u001b[K     |████████████████████████████████| 312 kB 2.8 MB/s \n",
            "\u001b[?25hCollecting addict\n",
            "  Downloading addict-2.4.0-py3-none-any.whl (3.8 kB)\n",
            "Requirement already satisfied: numpy in /usr/local/lib/python3.7/dist-packages (from mmcv-full==1.3.8) (1.19.5)\n",
            "Requirement already satisfied: Pillow in /usr/local/lib/python3.7/dist-packages (from mmcv-full==1.3.8) (7.1.2)\n",
            "Requirement already satisfied: pyyaml in /usr/local/lib/python3.7/dist-packages (from mmcv-full==1.3.8) (3.13)\n",
            "Collecting yapf\n",
            "  Downloading yapf-0.31.0-py2.py3-none-any.whl (185 kB)\n",
            "\u001b[K     |████████████████████████████████| 185 kB 57.5 MB/s \n",
            "\u001b[?25hBuilding wheels for collected packages: mmcv-full\n",
            "  Building wheel for mmcv-full (setup.py) ... \u001b[?25l\u001b[?25hdone\n",
            "  Created wheel for mmcv-full: filename=mmcv_full-1.3.8-cp37-cp37m-linux_x86_64.whl size=29583804 sha256=a7f9f9a78eb0868f6adb458f6238ef1fc55951ded97d441d0d9957e33abb70b4\n",
            "  Stored in directory: /root/.cache/pip/wheels/b1/c4/8d/b5bab7347e1b71280505e58eca95d00a53a524a7d5fa3ac89f\n",
            "Successfully built mmcv-full\n",
            "Installing collected packages: yapf, addict, mmcv-full\n",
            "Successfully installed addict-2.4.0 mmcv-full-1.3.8 yapf-0.31.0\n"
          ]
        }
      ]
    },
    {
      "cell_type": "code",
      "metadata": {
        "id": "y3WNFcX3PUcP"
      },
      "source": [
        "HOME_PATH = \"/content\""
      ],
      "execution_count": null,
      "outputs": []
    },
    {
      "cell_type": "code",
      "metadata": {
        "colab": {
          "base_uri": "https://localhost:8080/"
        },
        "id": "KKdRG66riHGN",
        "outputId": "d3674578-421d-4d17-b7df-c7269b1f9199"
      },
      "source": [
        "\n",
        "!git clone https://github.com/open-mmlab/mmdetection.git\n",
        "%cd mmdetection\n",
        "!pip install -r requirements/build.txt\n",
        "!pip install \"git+https://github.com/open-mmlab/cocoapi.git#subdirectory=pycocotools\"\n",
        "!pip install -v -e .  # or \"python setup.py develop\""
      ],
      "execution_count": null,
      "outputs": [
        {
          "name": "stdout",
          "output_type": "stream",
          "text": [
            "Cloning into 'mmdetection'...\n",
            "remote: Enumerating objects: 21231, done.\u001b[K\n",
            "remote: Total 21231 (delta 0), reused 0 (delta 0), pack-reused 21231\u001b[K\n",
            "Receiving objects: 100% (21231/21231), 24.89 MiB | 23.66 MiB/s, done.\n",
            "Resolving deltas: 100% (14872/14872), done.\n",
            "/content/mmdetection\n",
            "Requirement already satisfied: cython in /usr/local/lib/python3.7/dist-packages (from -r requirements/build.txt (line 2)) (0.29.24)\n",
            "Requirement already satisfied: numpy in /usr/local/lib/python3.7/dist-packages (from -r requirements/build.txt (line 3)) (1.19.5)\n",
            "Collecting git+https://github.com/open-mmlab/cocoapi.git#subdirectory=pycocotools\n",
            "  Cloning https://github.com/open-mmlab/cocoapi.git to /tmp/pip-req-build-59lo65lw\n",
            "  Running command git clone -q https://github.com/open-mmlab/cocoapi.git /tmp/pip-req-build-59lo65lw\n",
            "Requirement already satisfied: setuptools>=18.0 in /usr/local/lib/python3.7/dist-packages (from mmpycocotools==12.0.3) (57.4.0)\n",
            "Requirement already satisfied: cython>=0.27.3 in /usr/local/lib/python3.7/dist-packages (from mmpycocotools==12.0.3) (0.29.24)\n",
            "Requirement already satisfied: matplotlib>=2.1.0 in /usr/local/lib/python3.7/dist-packages (from mmpycocotools==12.0.3) (3.2.2)\n",
            "Requirement already satisfied: numpy>=1.11 in /usr/local/lib/python3.7/dist-packages (from matplotlib>=2.1.0->mmpycocotools==12.0.3) (1.19.5)\n",
            "Requirement already satisfied: python-dateutil>=2.1 in /usr/local/lib/python3.7/dist-packages (from matplotlib>=2.1.0->mmpycocotools==12.0.3) (2.8.2)\n",
            "Requirement already satisfied: cycler>=0.10 in /usr/local/lib/python3.7/dist-packages (from matplotlib>=2.1.0->mmpycocotools==12.0.3) (0.10.0)\n",
            "Requirement already satisfied: pyparsing!=2.0.4,!=2.1.2,!=2.1.6,>=2.0.1 in /usr/local/lib/python3.7/dist-packages (from matplotlib>=2.1.0->mmpycocotools==12.0.3) (2.4.7)\n",
            "Requirement already satisfied: kiwisolver>=1.0.1 in /usr/local/lib/python3.7/dist-packages (from matplotlib>=2.1.0->mmpycocotools==12.0.3) (1.3.2)\n",
            "Requirement already satisfied: six in /usr/local/lib/python3.7/dist-packages (from cycler>=0.10->matplotlib>=2.1.0->mmpycocotools==12.0.3) (1.15.0)\n",
            "Building wheels for collected packages: mmpycocotools\n",
            "  Building wheel for mmpycocotools (setup.py) ... \u001b[?25l\u001b[?25hdone\n",
            "  Created wheel for mmpycocotools: filename=mmpycocotools-12.0.3-cp37-cp37m-linux_x86_64.whl size=264249 sha256=42555851d11c2df589ac3485cadb4e43d6acf5ac2d0692b189b6655baad2c8e0\n",
            "  Stored in directory: /tmp/pip-ephem-wheel-cache-na4zvbbp/wheels/d4/38/2b/ec4e44ec87a2b8692cd999bb33a831823b8071d0f89661297e\n",
            "Successfully built mmpycocotools\n",
            "Installing collected packages: mmpycocotools\n",
            "Successfully installed mmpycocotools-12.0.3\n",
            "Using pip 21.1.3 from /usr/local/lib/python3.7/dist-packages/pip (python 3.7)\n",
            "Value for scheme.platlib does not match. Please report this to <https://github.com/pypa/pip/issues/9617>\n",
            "distutils: /usr/local/lib/python3.7/dist-packages\n",
            "sysconfig: /usr/lib/python3.7/site-packages\n",
            "Value for scheme.purelib does not match. Please report this to <https://github.com/pypa/pip/issues/9617>\n",
            "distutils: /usr/local/lib/python3.7/dist-packages\n",
            "sysconfig: /usr/lib/python3.7/site-packages\n",
            "Value for scheme.headers does not match. Please report this to <https://github.com/pypa/pip/issues/9617>\n",
            "distutils: /usr/local/include/python3.7/UNKNOWN\n",
            "sysconfig: /usr/include/python3.7m/UNKNOWN\n",
            "Value for scheme.scripts does not match. Please report this to <https://github.com/pypa/pip/issues/9617>\n",
            "distutils: /usr/local/bin\n",
            "sysconfig: /usr/bin\n",
            "Value for scheme.data does not match. Please report this to <https://github.com/pypa/pip/issues/9617>\n",
            "distutils: /usr/local\n",
            "sysconfig: /usr\n",
            "Additional context:\n",
            "user = False\n",
            "home = None\n",
            "root = None\n",
            "prefix = None\n",
            "Non-user install because site-packages writeable\n",
            "Created temporary directory: /tmp/pip-ephem-wheel-cache-ytq_905z\n",
            "Created temporary directory: /tmp/pip-req-tracker-y5_n04rf\n",
            "Initialized build tracking at /tmp/pip-req-tracker-y5_n04rf\n",
            "Created build tracker: /tmp/pip-req-tracker-y5_n04rf\n",
            "Entered build tracker: /tmp/pip-req-tracker-y5_n04rf\n",
            "Created temporary directory: /tmp/pip-install-m4iqqbcr\n",
            "Obtaining file:///content/mmdetection\n",
            "  Added file:///content/mmdetection to build tracker '/tmp/pip-req-tracker-y5_n04rf'\n",
            "    Running setup.py (path:/content/mmdetection/setup.py) egg_info for package from file:///content/mmdetection\n",
            "    Created temporary directory: /tmp/pip-pip-egg-info-upjxnwxn\n",
            "    Running command python setup.py egg_info\n",
            "    running egg_info\n",
            "    creating /tmp/pip-pip-egg-info-upjxnwxn/mmdet.egg-info\n",
            "    writing /tmp/pip-pip-egg-info-upjxnwxn/mmdet.egg-info/PKG-INFO\n",
            "    writing dependency_links to /tmp/pip-pip-egg-info-upjxnwxn/mmdet.egg-info/dependency_links.txt\n",
            "    writing requirements to /tmp/pip-pip-egg-info-upjxnwxn/mmdet.egg-info/requires.txt\n",
            "    writing top-level names to /tmp/pip-pip-egg-info-upjxnwxn/mmdet.egg-info/top_level.txt\n",
            "    writing manifest file '/tmp/pip-pip-egg-info-upjxnwxn/mmdet.egg-info/SOURCES.txt'\n",
            "    reading manifest template 'MANIFEST.in'\n",
            "    warning: no files found matching 'mmdet/VERSION'\n",
            "    warning: no files found matching 'mmdet/.mim/model-index.yml'\n",
            "    warning: no files found matching 'mmdet/.mim/demo/*/*'\n",
            "    warning: no files found matching '*.py' under directory 'mmdet/.mim/configs'\n",
            "    warning: no files found matching '*.yml' under directory 'mmdet/.mim/configs'\n",
            "    warning: no files found matching '*.sh' under directory 'mmdet/.mim/tools'\n",
            "    warning: no files found matching '*.py' under directory 'mmdet/.mim/tools'\n",
            "    adding license file 'LICENSE'\n",
            "    writing manifest file '/tmp/pip-pip-egg-info-upjxnwxn/mmdet.egg-info/SOURCES.txt'\n",
            "  Source in /content/mmdetection has version 2.17.0, which satisfies requirement mmdet==2.17.0 from file:///content/mmdetection\n",
            "  Removed mmdet==2.17.0 from file:///content/mmdetection from build tracker '/tmp/pip-req-tracker-y5_n04rf'\n",
            "Requirement already satisfied: matplotlib in /usr/local/lib/python3.7/dist-packages (from mmdet==2.17.0) (3.2.2)\n",
            "Requirement already satisfied: numpy in /usr/local/lib/python3.7/dist-packages (from mmdet==2.17.0) (1.19.5)\n",
            "Requirement already satisfied: six in /usr/local/lib/python3.7/dist-packages (from mmdet==2.17.0) (1.15.0)\n",
            "1 location(s) to search for versions of terminaltables:\n",
            "* https://pypi.org/simple/terminaltables/\n",
            "Fetching project page and analyzing links: https://pypi.org/simple/terminaltables/\n",
            "Getting page https://pypi.org/simple/terminaltables/\n",
            "Found index url https://pypi.org/simple\n",
            "Looking up \"https://pypi.org/simple/terminaltables/\" in the cache\n",
            "Request header has \"max_age\" as 0, cache bypassed\n",
            "Starting new HTTPS connection (1): pypi.org:443\n",
            "https://pypi.org:443 \"GET /simple/terminaltables/ HTTP/1.1\" 200 1231\n",
            "Updating cache with response from \"https://pypi.org/simple/terminaltables/\"\n",
            "Caching due to etag\n",
            "  Found link https://files.pythonhosted.org/packages/ec/82/6390ba7f110622d27b02451aaa294dc4b3133b7661e464db9a116e977324/terminaltables-1.0.0.tar.gz#sha256=4c909a5ee4a3d028b2c977d996f8b8cd9724ce8e4d9d834d65e78a98f7965b54 (from https://pypi.org/simple/terminaltables/), version: 1.0.0\n",
            "  Found link https://files.pythonhosted.org/packages/97/65/858bc3ea6cc60edc959ce427a94227932b5d9a95b0bce82f16071419885c/terminaltables-1.0.1.tar.gz#sha256=5548ac567d38d6ac88a5e0fec2d95f646249f37e1ef8fd2d17f8fcaefc6cf592 (from https://pypi.org/simple/terminaltables/), version: 1.0.1\n",
            "  Found link https://files.pythonhosted.org/packages/82/42/3f1140f6e538582fd514c765244662cca60885048cf610e7d00eaee8aeb1/terminaltables-1.0.2.tar.gz#sha256=cf97dd019af975cc64aa69aca435a43b0cffabb88df6f337c6b48de600c19f8e (from https://pypi.org/simple/terminaltables/), version: 1.0.2\n",
            "  Found link https://files.pythonhosted.org/packages/80/07/5663569dfd8fa4e4fa3cb645b70f4972e3d79d056b71da12df174668c145/terminaltables-1.1.0.tar.gz#sha256=94a15e1a295265d130de67e9c2efef9e1cad1e64dd6ae0b80882076581605f8c (from https://pypi.org/simple/terminaltables/), version: 1.1.0\n",
            "  Found link https://files.pythonhosted.org/packages/0c/4a/9b80642ac2463908fe77c9dbe138c56902fbf5a5a95d07203c131ec9ba90/terminaltables-1.1.1.tar.gz#sha256=b02c516d6d521ce0fe6e2a2753268e86547bbccab6bfa7e269a0f51766283fab (from https://pypi.org/simple/terminaltables/), version: 1.1.1\n",
            "  Found link https://files.pythonhosted.org/packages/a8/65/f9c6bcfb1f81acdfcd1f8d633c6752cfdcc04b5fade7638a2a8dc7a720de/terminaltables-1.2.0.tar.gz#sha256=fff4aa62f296038d1526a91856f0b3de1e3bce31cfd1c5148cc3f795c1d396bf (from https://pypi.org/simple/terminaltables/), version: 1.2.0\n",
            "  Found link https://files.pythonhosted.org/packages/3d/17/14aa6521b337be46c51dd7b31e7e617801e9f8db7f48583c767c02e0e72a/terminaltables-1.2.1.tar.gz#sha256=cf5f0fb6c6c3070d7af73537ded030858c122f253c87e7221f9a6da3782ce787 (from https://pypi.org/simple/terminaltables/), version: 1.2.1\n",
            "  Found link https://files.pythonhosted.org/packages/d0/8e/9403573ff8aebc09ee0aacd57885050f74bd9f48a85c0735d33cacfa2469/terminaltables-2.0.0.tar.gz#sha256=2e0a6688071f2a881f8fa4455a362457dcd2317e374609f1a09baffa998e7492 (from https://pypi.org/simple/terminaltables/), version: 2.0.0\n",
            "  Found link https://files.pythonhosted.org/packages/10/da/9bbb21c1c2f9be4df2056b00b569689b9ece538ef39bf8db34be25f9e850/terminaltables-2.1.0.tar.gz#sha256=33b60f027964214f4ff5821f43958d03add81784f7c183d86a7ee8f010350cf5 (from https://pypi.org/simple/terminaltables/), version: 2.1.0\n",
            "  Found link https://files.pythonhosted.org/packages/58/c9/f0c174c4e828365df3593c66ac32474cd994a8ec36fe19a798261c96c3bc/terminaltables-3.0.0.tar.gz#sha256=bd2504031f09f942a8f221266adc61aee04a0368d5de0dacb7a53e508af6a518 (from https://pypi.org/simple/terminaltables/), version: 3.0.0\n",
            "  Found link https://files.pythonhosted.org/packages/9b/c4/4a21174f32f8a7e1104798c445dacdc1d4df86f2f26722767034e4de4bff/terminaltables-3.1.0.tar.gz#sha256=f3eb0eb92e3833972ac36796293ca0906e998dc3be91fbe1f8615b331b853b81 (from https://pypi.org/simple/terminaltables/), version: 3.1.0\n",
            "Skipping link: not a file: https://pypi.org/simple/terminaltables/\n",
            "Given no hashes to check 11 links for project 'terminaltables': discarding no candidates\n",
            "Collecting terminaltables\n",
            "  Created temporary directory: /tmp/pip-unpack-r_c30b0h\n",
            "  Looking up \"https://files.pythonhosted.org/packages/9b/c4/4a21174f32f8a7e1104798c445dacdc1d4df86f2f26722767034e4de4bff/terminaltables-3.1.0.tar.gz\" in the cache\n",
            "  No cache entry available\n",
            "  Starting new HTTPS connection (1): files.pythonhosted.org:443\n",
            "  https://files.pythonhosted.org:443 \"GET /packages/9b/c4/4a21174f32f8a7e1104798c445dacdc1d4df86f2f26722767034e4de4bff/terminaltables-3.1.0.tar.gz HTTP/1.1\" 200 12478\n",
            "  Downloading terminaltables-3.1.0.tar.gz (12 kB)\n",
            "  Ignoring unknown cache-control directive: immutable\n",
            "  Updating cache with response from \"https://files.pythonhosted.org/packages/9b/c4/4a21174f32f8a7e1104798c445dacdc1d4df86f2f26722767034e4de4bff/terminaltables-3.1.0.tar.gz\"\n",
            "  Caching due to etag\n",
            "  Added terminaltables from https://files.pythonhosted.org/packages/9b/c4/4a21174f32f8a7e1104798c445dacdc1d4df86f2f26722767034e4de4bff/terminaltables-3.1.0.tar.gz#sha256=f3eb0eb92e3833972ac36796293ca0906e998dc3be91fbe1f8615b331b853b81 (from mmdet==2.17.0) to build tracker '/tmp/pip-req-tracker-y5_n04rf'\n",
            "    Running setup.py (path:/tmp/pip-install-m4iqqbcr/terminaltables_41083510a1be40879e4f03d0e57e4d90/setup.py) egg_info for package terminaltables\n",
            "    Created temporary directory: /tmp/pip-pip-egg-info-fei0wdk0\n",
            "    Running command python setup.py egg_info\n",
            "    running egg_info\n",
            "    creating /tmp/pip-pip-egg-info-fei0wdk0/terminaltables.egg-info\n",
            "    writing /tmp/pip-pip-egg-info-fei0wdk0/terminaltables.egg-info/PKG-INFO\n",
            "    writing dependency_links to /tmp/pip-pip-egg-info-fei0wdk0/terminaltables.egg-info/dependency_links.txt\n",
            "    writing top-level names to /tmp/pip-pip-egg-info-fei0wdk0/terminaltables.egg-info/top_level.txt\n",
            "    writing manifest file '/tmp/pip-pip-egg-info-fei0wdk0/terminaltables.egg-info/SOURCES.txt'\n",
            "    reading manifest file '/tmp/pip-pip-egg-info-fei0wdk0/terminaltables.egg-info/SOURCES.txt'\n",
            "    writing manifest file '/tmp/pip-pip-egg-info-fei0wdk0/terminaltables.egg-info/SOURCES.txt'\n",
            "  Source in /tmp/pip-install-m4iqqbcr/terminaltables_41083510a1be40879e4f03d0e57e4d90 has version 3.1.0, which satisfies requirement terminaltables from https://files.pythonhosted.org/packages/9b/c4/4a21174f32f8a7e1104798c445dacdc1d4df86f2f26722767034e4de4bff/terminaltables-3.1.0.tar.gz#sha256=f3eb0eb92e3833972ac36796293ca0906e998dc3be91fbe1f8615b331b853b81 (from mmdet==2.17.0)\n",
            "  Removed terminaltables from https://files.pythonhosted.org/packages/9b/c4/4a21174f32f8a7e1104798c445dacdc1d4df86f2f26722767034e4de4bff/terminaltables-3.1.0.tar.gz#sha256=f3eb0eb92e3833972ac36796293ca0906e998dc3be91fbe1f8615b331b853b81 (from mmdet==2.17.0) from build tracker '/tmp/pip-req-tracker-y5_n04rf'\n",
            "Requirement already satisfied: pycocotools in /usr/local/lib/python3.7/dist-packages (from mmdet==2.17.0) (2.0.2)\n",
            "Requirement already satisfied: kiwisolver>=1.0.1 in /usr/local/lib/python3.7/dist-packages (from matplotlib->mmdet==2.17.0) (1.3.2)\n",
            "Requirement already satisfied: pyparsing!=2.0.4,!=2.1.2,!=2.1.6,>=2.0.1 in /usr/local/lib/python3.7/dist-packages (from matplotlib->mmdet==2.17.0) (2.4.7)\n",
            "Requirement already satisfied: cycler>=0.10 in /usr/local/lib/python3.7/dist-packages (from matplotlib->mmdet==2.17.0) (0.10.0)\n",
            "Requirement already satisfied: python-dateutil>=2.1 in /usr/local/lib/python3.7/dist-packages (from matplotlib->mmdet==2.17.0) (2.8.2)\n",
            "Requirement already satisfied: setuptools>=18.0 in /usr/local/lib/python3.7/dist-packages (from pycocotools->mmdet==2.17.0) (57.4.0)\n",
            "Requirement already satisfied: cython>=0.27.3 in /usr/local/lib/python3.7/dist-packages (from pycocotools->mmdet==2.17.0) (0.29.24)\n",
            "Created temporary directory: /tmp/pip-unpack-8icirom6\n",
            "Building wheels for collected packages: terminaltables\n",
            "  Created temporary directory: /tmp/pip-wheel-4ft5fm54\n",
            "  Building wheel for terminaltables (setup.py) ... \u001b[?25l  Destination directory: /tmp/pip-wheel-4ft5fm54\n",
            "  Running command /usr/bin/python3 -u -c 'import io, os, sys, setuptools, tokenize; sys.argv[0] = '\"'\"'/tmp/pip-install-m4iqqbcr/terminaltables_41083510a1be40879e4f03d0e57e4d90/setup.py'\"'\"'; __file__='\"'\"'/tmp/pip-install-m4iqqbcr/terminaltables_41083510a1be40879e4f03d0e57e4d90/setup.py'\"'\"';f = getattr(tokenize, '\"'\"'open'\"'\"', open)(__file__) if os.path.exists(__file__) else io.StringIO('\"'\"'from setuptools import setup; setup()'\"'\"');code = f.read().replace('\"'\"'\\r\\n'\"'\"', '\"'\"'\\n'\"'\"');f.close();exec(compile(code, __file__, '\"'\"'exec'\"'\"'))' bdist_wheel -d /tmp/pip-wheel-4ft5fm54\n",
            "  running bdist_wheel\n",
            "  running build\n",
            "  running build_py\n",
            "  creating build\n",
            "  creating build/lib\n",
            "  creating build/lib/terminaltables\n",
            "  copying terminaltables/terminal_io.py -> build/lib/terminaltables\n",
            "  copying terminaltables/build.py -> build/lib/terminaltables\n",
            "  copying terminaltables/__init__.py -> build/lib/terminaltables\n",
            "  copying terminaltables/base_table.py -> build/lib/terminaltables\n",
            "  copying terminaltables/width_and_alignment.py -> build/lib/terminaltables\n",
            "  copying terminaltables/github_table.py -> build/lib/terminaltables\n",
            "  copying terminaltables/other_tables.py -> build/lib/terminaltables\n",
            "  copying terminaltables/ascii_table.py -> build/lib/terminaltables\n",
            "  installing to build/bdist.linux-x86_64/wheel\n",
            "  running install\n",
            "  running install_lib\n",
            "  creating build/bdist.linux-x86_64\n",
            "  creating build/bdist.linux-x86_64/wheel\n",
            "  creating build/bdist.linux-x86_64/wheel/terminaltables\n",
            "  copying build/lib/terminaltables/terminal_io.py -> build/bdist.linux-x86_64/wheel/terminaltables\n",
            "  copying build/lib/terminaltables/build.py -> build/bdist.linux-x86_64/wheel/terminaltables\n",
            "  copying build/lib/terminaltables/__init__.py -> build/bdist.linux-x86_64/wheel/terminaltables\n",
            "  copying build/lib/terminaltables/base_table.py -> build/bdist.linux-x86_64/wheel/terminaltables\n",
            "  copying build/lib/terminaltables/width_and_alignment.py -> build/bdist.linux-x86_64/wheel/terminaltables\n",
            "  copying build/lib/terminaltables/github_table.py -> build/bdist.linux-x86_64/wheel/terminaltables\n",
            "  copying build/lib/terminaltables/other_tables.py -> build/bdist.linux-x86_64/wheel/terminaltables\n",
            "  copying build/lib/terminaltables/ascii_table.py -> build/bdist.linux-x86_64/wheel/terminaltables\n",
            "  running install_egg_info\n",
            "  running egg_info\n",
            "  writing terminaltables.egg-info/PKG-INFO\n",
            "  writing dependency_links to terminaltables.egg-info/dependency_links.txt\n",
            "  writing top-level names to terminaltables.egg-info/top_level.txt\n",
            "  reading manifest file 'terminaltables.egg-info/SOURCES.txt'\n",
            "  writing manifest file 'terminaltables.egg-info/SOURCES.txt'\n",
            "  Copying terminaltables.egg-info to build/bdist.linux-x86_64/wheel/terminaltables-3.1.0-py3.7.egg-info\n",
            "  running install_scripts\n",
            "  creating build/bdist.linux-x86_64/wheel/terminaltables-3.1.0.dist-info/WHEEL\n",
            "  creating '/tmp/pip-wheel-4ft5fm54/terminaltables-3.1.0-py3-none-any.whl' and adding 'build/bdist.linux-x86_64/wheel' to it\n",
            "  adding 'terminaltables/__init__.py'\n",
            "  adding 'terminaltables/ascii_table.py'\n",
            "  adding 'terminaltables/base_table.py'\n",
            "  adding 'terminaltables/build.py'\n",
            "  adding 'terminaltables/github_table.py'\n",
            "  adding 'terminaltables/other_tables.py'\n",
            "  adding 'terminaltables/terminal_io.py'\n",
            "  adding 'terminaltables/width_and_alignment.py'\n",
            "  adding 'terminaltables-3.1.0.dist-info/METADATA'\n",
            "  adding 'terminaltables-3.1.0.dist-info/WHEEL'\n",
            "  adding 'terminaltables-3.1.0.dist-info/top_level.txt'\n",
            "  adding 'terminaltables-3.1.0.dist-info/zip-safe'\n",
            "  adding 'terminaltables-3.1.0.dist-info/RECORD'\n",
            "  removing build/bdist.linux-x86_64/wheel\n",
            "\u001b[?25hdone\n",
            "  Created wheel for terminaltables: filename=terminaltables-3.1.0-py3-none-any.whl size=15354 sha256=6cd191f0ad9d0d959bd44f6a4b1574df6fb4b681b97b93a2af783a7b34ab22ab\n",
            "  Stored in directory: /root/.cache/pip/wheels/ba/ad/c8/2d98360791161cd3db6daf6b5e730f34021fc9367d5879f497\n",
            "Successfully built terminaltables\n",
            "Installing collected packages: terminaltables, mmdet\n",
            "  Value for scheme.platlib does not match. Please report this to <https://github.com/pypa/pip/issues/9617>\n",
            "  distutils: /usr/local/lib/python3.7/dist-packages\n",
            "  sysconfig: /usr/lib/python3.7/site-packages\n",
            "  Value for scheme.purelib does not match. Please report this to <https://github.com/pypa/pip/issues/9617>\n",
            "  distutils: /usr/local/lib/python3.7/dist-packages\n",
            "  sysconfig: /usr/lib/python3.7/site-packages\n",
            "  Value for scheme.headers does not match. Please report this to <https://github.com/pypa/pip/issues/9617>\n",
            "  distutils: /usr/local/include/python3.7/terminaltables\n",
            "  sysconfig: /usr/include/python3.7m/terminaltables\n",
            "  Value for scheme.scripts does not match. Please report this to <https://github.com/pypa/pip/issues/9617>\n",
            "  distutils: /usr/local/bin\n",
            "  sysconfig: /usr/bin\n",
            "  Value for scheme.data does not match. Please report this to <https://github.com/pypa/pip/issues/9617>\n",
            "  distutils: /usr/local\n",
            "  sysconfig: /usr\n",
            "  Additional context:\n",
            "  user = False\n",
            "  home = None\n",
            "  root = None\n",
            "  prefix = None\n",
            "\n",
            "  Value for scheme.platlib does not match. Please report this to <https://github.com/pypa/pip/issues/9617>\n",
            "  distutils: /usr/local/lib/python3.7/dist-packages\n",
            "  sysconfig: /usr/lib/python3.7/site-packages\n",
            "  Value for scheme.purelib does not match. Please report this to <https://github.com/pypa/pip/issues/9617>\n",
            "  distutils: /usr/local/lib/python3.7/dist-packages\n",
            "  sysconfig: /usr/lib/python3.7/site-packages\n",
            "  Value for scheme.headers does not match. Please report this to <https://github.com/pypa/pip/issues/9617>\n",
            "  distutils: /usr/local/include/python3.7/mmdet\n",
            "  sysconfig: /usr/include/python3.7m/mmdet\n",
            "  Value for scheme.scripts does not match. Please report this to <https://github.com/pypa/pip/issues/9617>\n",
            "  distutils: /usr/local/bin\n",
            "  sysconfig: /usr/bin\n",
            "  Value for scheme.data does not match. Please report this to <https://github.com/pypa/pip/issues/9617>\n",
            "  distutils: /usr/local\n",
            "  sysconfig: /usr\n",
            "  Additional context:\n",
            "  user = False\n",
            "  home = None\n",
            "  root = None\n",
            "  prefix = None\n",
            "  Running setup.py develop for mmdet\n",
            "    Running command /usr/bin/python3 -c 'import io, os, sys, setuptools, tokenize; sys.argv[0] = '\"'\"'/content/mmdetection/setup.py'\"'\"'; __file__='\"'\"'/content/mmdetection/setup.py'\"'\"';f = getattr(tokenize, '\"'\"'open'\"'\"', open)(__file__) if os.path.exists(__file__) else io.StringIO('\"'\"'from setuptools import setup; setup()'\"'\"');code = f.read().replace('\"'\"'\\r\\n'\"'\"', '\"'\"'\\n'\"'\"');f.close();exec(compile(code, __file__, '\"'\"'exec'\"'\"'))' develop --no-deps\n",
            "    running develop\n",
            "    running egg_info\n",
            "    creating mmdet.egg-info\n",
            "    writing mmdet.egg-info/PKG-INFO\n",
            "    writing dependency_links to mmdet.egg-info/dependency_links.txt\n",
            "    writing requirements to mmdet.egg-info/requires.txt\n",
            "    writing top-level names to mmdet.egg-info/top_level.txt\n",
            "    writing manifest file 'mmdet.egg-info/SOURCES.txt'\n",
            "    reading manifest template 'MANIFEST.in'\n",
            "    warning: no files found matching 'mmdet/VERSION'\n",
            "    warning: no files found matching 'mmdet/.mim/demo/*/*'\n",
            "    adding license file 'LICENSE'\n",
            "    writing manifest file 'mmdet.egg-info/SOURCES.txt'\n",
            "    running build_ext\n",
            "    Creating /usr/local/lib/python3.7/dist-packages/mmdet.egg-link (link to .)\n",
            "    Adding mmdet 2.17.0 to easy-install.pth file\n",
            "\n",
            "    Installed /content/mmdetection\n",
            "    /usr/local/lib/python3.7/dist-packages/torch/utils/cpp_extension.py:370: UserWarning: Attempted to use ninja as the BuildExtension backend but we could not find ninja.. Falling back to using the slow distutils backend.\n",
            "      warnings.warn(msg.format('we could not find ninja.'))\n",
            "Value for scheme.platlib does not match. Please report this to <https://github.com/pypa/pip/issues/9617>\n",
            "distutils: /usr/local/lib/python3.7/dist-packages\n",
            "sysconfig: /usr/lib/python3.7/site-packages\n",
            "Value for scheme.purelib does not match. Please report this to <https://github.com/pypa/pip/issues/9617>\n",
            "distutils: /usr/local/lib/python3.7/dist-packages\n",
            "sysconfig: /usr/lib/python3.7/site-packages\n",
            "Value for scheme.headers does not match. Please report this to <https://github.com/pypa/pip/issues/9617>\n",
            "distutils: /usr/local/include/python3.7/UNKNOWN\n",
            "sysconfig: /usr/include/python3.7m/UNKNOWN\n",
            "Value for scheme.scripts does not match. Please report this to <https://github.com/pypa/pip/issues/9617>\n",
            "distutils: /usr/local/bin\n",
            "sysconfig: /usr/bin\n",
            "Value for scheme.data does not match. Please report this to <https://github.com/pypa/pip/issues/9617>\n",
            "distutils: /usr/local\n",
            "sysconfig: /usr\n",
            "Additional context:\n",
            "user = False\n",
            "home = None\n",
            "root = None\n",
            "prefix = None\n",
            "Successfully installed mmdet-2.17.0 terminaltables-3.1.0\n",
            "Removed build tracker: '/tmp/pip-req-tracker-y5_n04rf'\n"
          ]
        }
      ]
    },
    {
      "cell_type": "markdown",
      "metadata": {
        "id": "LDlSsCUcDlr_"
      },
      "source": [
        "## コンフィグファイルの編集"
      ]
    },
    {
      "cell_type": "code",
      "metadata": {
        "id": "MQ_ZoxbmPLGn"
      },
      "source": [
        "from mmcv import Config\n",
        "cfg = Config.fromfile('/content/mmdetection/configs/yolo/yolov3_d53_mstrain-608_273e_coco.py')\n"
      ],
      "execution_count": null,
      "outputs": []
    },
    {
      "cell_type": "code",
      "metadata": {
        "id": "RnERVt6YrCD2"
      },
      "source": [
        "# MMdetectionの分類結果は、COCODatasetで定義された80分類に従って、表示されます。\n",
        "# 表示名を変更するには、以下のファイルの'cocodataset'の部分を編集してください。\n",
        "# /content/mmdetection/mmdet/datasets/coco.py\n",
        "# /content/mmdetection/mmdet/core/evaluation/class_names.py\n",
        "\n",
        "# 編集後にすでに編集ずみファイルを持っている場合は以下のように内容をコピーして置き換えてください。\n",
        "\n",
        "\n",
        "!cp \"コピーもとファイル\" \"/content/mmdetection/mmdet/datasets/coco.py\" -r\n",
        "!cp \"コピーもとファイル\" \"/content/mmdetection/mmdet/core/evaluation/class_names.py\" -r "
      ],
      "execution_count": null,
      "outputs": []
    },
    {
      "cell_type": "code",
      "metadata": {
        "id": "Pl4npPTBEiUK"
      },
      "source": [
        "# コンフィグを変更する\n",
        "# yolov3\n",
        "\n",
        "data_root = '画像データのルートフォルダ'\n",
        "\n",
        "cfg.model.bbox_head.num_classes = 4\n",
        "#cfg.num_class = 80\n",
        "cfg.data_root = data_root\n",
        "\n",
        "# trainデータの定義\n",
        "cfg.data.train.ann_file = '学習用のアノテーションファイル'\n",
        "cfg.data.train.img_prefix = data_root + '学習用画像データを保存したフォルダ'\n",
        "\n",
        "# valデータの定義\n",
        "cfg.data.val.ann_file = '検証用のアノテーションファイル'\n",
        "cfg.data.val.img_prefix = data_root + '検証用画像データを保存したフォルダ'\n",
        "\n",
        "# Let's have a look at the final config used for training\n",
        "print(f'Config:\\n{cfg.pretty_text}')\n",
        "\n",
        "\n",
        "# 編集したコンフィグをファイル出力\n",
        "cfg.dump('/content/yolo.py')\n"
      ],
      "execution_count": null,
      "outputs": []
    },
    {
      "cell_type": "code",
      "metadata": {
        "id": "8hXq2KM6EaZv"
      },
      "source": [
        "!mkdir -p \"$HOME_PATH\"/work_train\n",
        "!python tools/train.py \\\n",
        "    '/content/yolo.py' \\\n",
        "    --work-dir \"$HOME_PATH\"/work_train\n"
      ],
      "execution_count": null,
      "outputs": []
    },
    {
      "cell_type": "markdown",
      "metadata": {
        "id": "rWpWKp8xDps0"
      },
      "source": [
        "## 学習結果の確認"
      ]
    },
    {
      "cell_type": "code",
      "metadata": {
        "colab": {
          "background_save": true
        },
        "id": "_9LdgUnsSF0n"
      },
      "source": [
        "from argparse import ArgumentParser\n",
        "from mmdet.apis import inference_detector, init_detector, show_result_pyplot\n",
        "model = init_detector(\"/content/yolo.py\", \"学習済みモデル\", device=device)\n",
        "result = inference_detector(model, \"予測結果を確認する画像\")\n",
        "show_result_pyplot(model, \"予測結果を確認する画像\", result, score_thr=0.4)"
      ],
      "execution_count": null,
      "outputs": []
    },
    {
      "cell_type": "markdown",
      "metadata": {
        "id": "m--0IpZEDt4_"
      },
      "source": [
        "## 予測タスクの実施"
      ]
    },
    {
      "cell_type": "code",
      "metadata": {
        "colab": {
          "base_uri": "https://localhost:8080/"
        },
        "id": "_4oCcVfMy0mN",
        "outputId": "850218ef-b031-4998-8dcc-9bc03903c6e5"
      },
      "source": [
        "from argparse import ArgumentParser\n",
        "from mmdet.apis import inference_detector, init_detector, show_result_pyplot\n",
        "import os\n",
        "\n",
        "testimage_path　 = \"テスト画像をおいたフォルダ\"\n",
        "\n",
        "imgaes = glob(testimage_path)\n",
        "\n",
        "# Specify the path to model config and checkpoint file\n",
        "config_file = '/content/drive/MyDrive/Detection/mmdetection/configs/htc/htc_without_semantic_r50_fpn_1x_coco.py'\n",
        "checkpoint_file = '/content/drive/MyDrive/Detection/work_train/epoch_18.pth'\n",
        "\n",
        "# build the model from a config file and a checkpoint file\n",
        "model = init_detector(config_file, checkpoint_file,device=device)\n",
        "\n",
        "\n",
        "\n",
        "bbox_dict1 = {}\n",
        "\n",
        "for image in images:\n",
        "    \n",
        "    if os.path.exists(image):\n",
        "\n",
        "        result = inference_detector(model, image)\n",
        "        \n",
        "        i = 0\n",
        "        result_segmentation = []\n",
        "\n",
        "        for i in range(6):\n",
        "            result_segmentation1 = []\n",
        "            tmp_bbox = []\n",
        "            if len(result[0][i]):\n",
        "                for j in range(len(result[0][i])):\n",
        "                    if len(result_segmentation1) == 0:\n",
        "                        contours = measure.find_contours(np.array(result[1][i][j]), 0.5)\n",
        "                        result_segmentation1.append([contours[0].tolist(),result[0][i][j][0:5].tolist()])\n",
        "                        tmp_bbox.append(result[0][i][j][0:4].tolist())\n",
        "\n",
        "                    else:\n",
        "                        if check_bbox(result[0][i][j][0:4].tolist(),tmp_bbox):\n",
        "                            contours = measure.find_contours(np.array(result[1][i][j]), 0.5)\n",
        "                            result_segmentation1.append([contours[0].tolist(),result[0][i][j][0:5].tolist()])\n",
        "                            tmp_bbox.append(result[0][i][j][0:4].tolist())                       \n",
        "\n",
        "\n",
        "                category = category_map[i+1]\n",
        "                bbox_dict = {\n",
        "                    category:result_segmentation1\n",
        "                }\n",
        "\n",
        "                if len(result_segmentation1):\n",
        "                    result_segmentation.append(bbox_dict)\n",
        "        \n",
        "        bbox_dict1[img] = result_segmentation\n",
        "\n",
        "\n",
        "with open('結果を出力するパス', 'w') as f:\n",
        "    json.dump(bbox_dict1, f, ensure_ascii=False)\n",
        "\n"
      ],
      "execution_count": null,
      "outputs": [
        {
          "name": "stderr",
          "output_type": "stream",
          "text": [
            "/content/drive/My Drive/Detection/mmdetection/mmdet/datasets/utils.py:68: UserWarning: \"ImageToTensor\" pipeline is replaced by \"DefaultFormatBundle\" for batch inference. It is recommended to manually replace it in the test data pipeline in your config file.\n",
            "  'data pipeline in your config file.', UserWarning)\n"
          ]
        }
      ]
    },
    {
      "cell_type": "code",
      "metadata": {
        "id": "KZYsbX7p5SOI"
      },
      "source": [
        ""
      ],
      "execution_count": null,
      "outputs": []
    }
  ]
}